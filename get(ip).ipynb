{
 "cells": [
  {
   "cell_type": "code",
   "execution_count": 30,
   "metadata": {},
   "outputs": [],
   "source": [
    "from bs4 import BeautifulSoup\n",
    "import requests"
   ]
  },
  {
   "cell_type": "code",
   "execution_count": 31,
   "metadata": {},
   "outputs": [],
   "source": [
    "def get(ip):\n",
    "    url = \"http://www.abuseipdb.com/check/\"+ip\n",
    "    headers = {\n",
    "      'User-Agent': 'Mozilla/5.0 (Windows NT 6.1) AppleWebKit/537.36 (KHTML, like Gecko) Chrome/41.0.2228.0 Safari/537.36'}\n",
    "    soup = BeautifulSoup(requests.get(url, headers=headers).text, 'html.parser')\n",
    "    titles = soup.section.table.find_all('th')\n",
    "    values = soup.section.table.find_all('td')\n",
    "    mydic = {tag.text.strip():value.text.strip() for tag,value in zip(titles,values) }\n",
    "    if len (soup.section.p.find_all('b')) == 0:\n",
    "        mydic[\"percentage\"] = \"was found in our database!\"\n",
    "    else:\n",
    "        mydic[\"percentage\"] = soup.section.p.find_all('b')[1].text\n",
    "    return mydic"
   ]
  },
  {
   "cell_type": "code",
   "execution_count": 32,
   "metadata": {},
   "outputs": [
    {
     "data": {
      "text/plain": [
       "{'ISP': 'Red Hat Inc.',\n",
       " 'Usage Type': 'Commercial',\n",
       " 'Hostname(s)': 'subscription.rhsm.redhat.com',\n",
       " 'Domain Name': 'redhat.com',\n",
       " 'Country': 'United States of America',\n",
       " 'City': 'Raleigh, North Carolina',\n",
       " 'percentage': 'was found in our database!'}"
      ]
     },
     "execution_count": 32,
     "metadata": {},
     "output_type": "execute_result"
    }
   ],
   "source": [
    "get(\"209.132.183.108\")"
   ]
  }
 ],
 "metadata": {
  "kernelspec": {
   "display_name": "Python 3",
   "language": "python",
   "name": "python3"
  },
  "language_info": {
   "codemirror_mode": {
    "name": "ipython",
    "version": 3
   },
   "file_extension": ".py",
   "mimetype": "text/x-python",
   "name": "python",
   "nbconvert_exporter": "python",
   "pygments_lexer": "ipython3",
   "version": "3.8.5"
  }
 },
 "nbformat": 4,
 "nbformat_minor": 4
}
